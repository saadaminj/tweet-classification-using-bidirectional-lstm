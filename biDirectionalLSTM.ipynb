{
  "nbformat": 4,
  "nbformat_minor": 0,
  "metadata": {
    "colab": {
      "provenance": []
    },
    "kernelspec": {
      "name": "python3",
      "display_name": "Python 3"
    },
    "language_info": {
      "name": "python"
    },
    "gpuClass": "standard"
  },
  "cells": [
    {
      "cell_type": "code",
      "source": [
        "from google.colab import drive\n",
        "drive.mount('/content/drive')"
      ],
      "metadata": {
        "id": "_AM81DYAXB66",
        "colab": {
          "base_uri": "https://localhost:8080/"
        },
        "outputId": "88473b6b-4a38-413f-ed09-98870411833b"
      },
      "execution_count": null,
      "outputs": [
        {
          "output_type": "stream",
          "name": "stdout",
          "text": [
            "Drive already mounted at /content/drive; to attempt to forcibly remount, call drive.mount(\"/content/drive\", force_remount=True).\n"
          ]
        }
      ]
    },
    {
      "cell_type": "code",
      "source": [
        "!ls /content/drive/MyDrive/textAnalytics/"
      ],
      "metadata": {
        "id": "M0w9YX4BogXP",
        "colab": {
          "base_uri": "https://localhost:8080/"
        },
        "outputId": "a81654ca-b8bf-45e8-fc62-202ff0b22d3f"
      },
      "execution_count": null,
      "outputs": [
        {
          "output_type": "stream",
          "name": "stdout",
          "text": [
            "myBertModel.h5\tmyLSTMModel.h5\tmyXlnetModel.h5  train.csv  xlnet_model.h5\n",
            "myBertModel.pt\tmyXlnetModel\ttest.csv\t valid.csv\n"
          ]
        }
      ]
    },
    {
      "cell_type": "code",
      "source": [
        "import nltk\n",
        "nltk.download('stopwords')\n",
        "nltk.download('punkt')"
      ],
      "metadata": {
        "colab": {
          "base_uri": "https://localhost:8080/"
        },
        "id": "4dvG5n2e8z-f",
        "outputId": "f2374871-6907-4855-9d3d-e8365c4306f3"
      },
      "execution_count": null,
      "outputs": [
        {
          "output_type": "stream",
          "name": "stderr",
          "text": [
            "[nltk_data] Downloading package stopwords to /root/nltk_data...\n",
            "[nltk_data]   Package stopwords is already up-to-date!\n",
            "[nltk_data] Downloading package punkt to /root/nltk_data...\n",
            "[nltk_data]   Package punkt is already up-to-date!\n"
          ]
        },
        {
          "output_type": "execute_result",
          "data": {
            "text/plain": [
              "True"
            ]
          },
          "metadata": {},
          "execution_count": 65
        }
      ]
    },
    {
      "cell_type": "code",
      "source": [
        "import pandas as pd\n",
        "import numpy as np\n",
        "from sklearn.model_selection import train_test_split\n",
        "from keras.preprocessing.text import Tokenizer\n",
        "from keras.utils import pad_sequences\n",
        "import re\n",
        "from nltk.tokenize import word_tokenize\n",
        "from keras.models import Sequential\n",
        "from keras.layers import Dense, LSTM, Bidirectional, Embedding\n",
        "from keras.callbacks import EarlyStopping\n",
        "from nltk.corpus import stopwords"
      ],
      "metadata": {
        "id": "04TedGR3wmLP"
      },
      "execution_count": null,
      "outputs": []
    },
    {
      "cell_type": "code",
      "execution_count": null,
      "metadata": {
        "id": "9wJBEKffwmyC"
      },
      "outputs": [],
      "source": [
        "# Load the dataset\n",
        "train_data = pd.read_csv('/content/drive/MyDrive/textAnalytics/train.csv')\n",
        "val_data = pd.read_csv('/content/drive/MyDrive/textAnalytics/valid.csv')\n",
        "test_data = pd.read_csv('/content/drive/MyDrive/textAnalytics/test.csv')"
      ]
    },
    {
      "cell_type": "code",
      "source": [
        "# define a function to remove stopwords from a single tweet\n",
        "def remove_stopwords(tweet):\n",
        "    # tokenize the tweet into individual words\n",
        "    words = word_tokenize(tweet)\n",
        "\n",
        "    # remove stopwords\n",
        "    stop_words = set(stopwords.words('english'))\n",
        "    filtered_words = [word for word in words if word.casefold() not in stop_words]\n",
        "\n",
        "    # join the remaining words back into a single string\n",
        "    filtered_tweet = ' '.join(filtered_words)\n",
        "\n",
        "    return filtered_tweet\n",
        "\n",
        "# apply the remove_stopwords function to the 'tweet' column of the DataFrame\n",
        "train_data['tweet'] = train_data['tweet'].apply(remove_stopwords)\n",
        "val_data['tweet'] = val_data['tweet'].apply(remove_stopwords)\n",
        "test_data['tweet'] = test_data['tweet'].apply(remove_stopwords)"
      ],
      "metadata": {
        "id": "N7r0FTb3OUdj"
      },
      "execution_count": null,
      "outputs": []
    },
    {
      "cell_type": "code",
      "source": [
        "# Clean the text data by removing URLs, mentions, and hashtags\n",
        "train_data['tweet'] = train_data['tweet'].apply(lambda x: re.sub(r'http\\S+', '', x))\n",
        "train_data['tweet'] = train_data['tweet'].apply(lambda x: re.sub(r'@\\S+', '', x))\n",
        "train_data['tweet'] = train_data['tweet'].apply(lambda x: re.sub(r'#\\S+', '', x))\n",
        "\n",
        "val_data['tweet'] = val_data['tweet'].apply(lambda x: re.sub(r'http\\S+', '', x))\n",
        "val_data['tweet'] = val_data['tweet'].apply(lambda x: re.sub(r'@\\S+', '', x))\n",
        "val_data['tweet'] = val_data['tweet'].apply(lambda x: re.sub(r'#\\S+', '', x))\n",
        "\n",
        "test_data['tweet'] = test_data['tweet'].apply(lambda x: re.sub(r'http\\S+', '', x))\n",
        "test_data['tweet'] = test_data['tweet'].apply(lambda x: re.sub(r'@\\S+', '', x))\n",
        "test_data['tweet'] = test_data['tweet'].apply(lambda x: re.sub(r'#\\S+', '', x))\n",
        "\n",
        "# # Tokenize the text data\n",
        "tokenizer = Tokenizer(num_words=10000)\n",
        "tokenizer.fit_on_texts(train_data['tweet'])\n",
        "\n",
        "train_data['tweet'] = tokenizer.texts_to_sequences(train_data['tweet'])\n",
        "val_data['tweet'] = tokenizer.texts_to_sequences(val_data['tweet'])\n",
        "test_data['tweet'] = tokenizer.texts_to_sequences(test_data['tweet'])\n",
        "\n",
        "# Pad the text sequences\n",
        "maxlen = 100\n",
        "train_data_tweet = pad_sequences(train_data['tweet'], padding='post', maxlen=maxlen)\n",
        "val_data_tweet = pad_sequences(val_data['tweet'], padding='post', maxlen=maxlen)\n",
        "test_data_tweet = pad_sequences(test_data['tweet'], padding='post', maxlen=maxlen)"
      ],
      "metadata": {
        "id": "prVMSanN7aGO"
      },
      "execution_count": null,
      "outputs": []
    },
    {
      "cell_type": "code",
      "execution_count": null,
      "metadata": {
        "id": "P4DJlXyOW8wF"
      },
      "outputs": [],
      "source": [
        "subset = ['25','50','75','100']\n",
        "\n",
        "# Preprocessing the data\n",
        "train_X = {}\n",
        "train_y = {}\n",
        "\n",
        "for i in subset:\n",
        "  if i != '100':\n",
        "    train_X[i], _, train_y[i], _ = train_test_split(train_data_tweet, train_data['label'].map({'NOT': 0, 'OFF': 1}), test_size=float(1-int(i)/100), random_state=42)\n",
        "\n",
        "train_X['100'] = train_data_tweet\n",
        "val_X = val_data_tweet\n",
        "test_X = test_data_tweet\n",
        "\n",
        "train_y['100'] = train_data['label'].map({'NOT': 0, 'OFF': 1})\n",
        "val_y = val_data['label'].map({'NOT': 0, 'OFF': 1})\n",
        "test_y = test_data['label'].map({'NOT': 0, 'OFF': 1})"
      ]
    },
    {
      "cell_type": "code",
      "source": [
        "type(train_X['100'])\n",
        "type(train_y['100'])\n",
        "val_y"
      ],
      "metadata": {
        "id": "RsILiMlEMvaE",
        "colab": {
          "base_uri": "https://localhost:8080/"
        },
        "outputId": "f0985edf-fbf7-4933-c9a5-57e0aff5d332"
      },
      "execution_count": null,
      "outputs": [
        {
          "output_type": "execute_result",
          "data": {
            "text/plain": [
              "0      0\n",
              "1      0\n",
              "2      0\n",
              "3      1\n",
              "4      0\n",
              "      ..\n",
              "922    1\n",
              "923    0\n",
              "924    1\n",
              "925    1\n",
              "926    0\n",
              "Name: label, Length: 927, dtype: int64"
            ]
          },
          "metadata": {},
          "execution_count": 81
        }
      ]
    },
    {
      "cell_type": "code",
      "source": [
        "# Build the model\n",
        "models = {}\n",
        "\n",
        "for i in subset:\n",
        "  models[i] = Sequential()\n",
        "  models[i].add(Embedding(10000, 100, input_length=maxlen))\n",
        "  models[i].add(Bidirectional(LSTM(64, dropout=0.2, recurrent_dropout=0.2, return_sequences=True)))\n",
        "  models[i].add(Dense(1, activation='sigmoid'))\n",
        "  models[i].compile(loss='binary_crossentropy', optimizer='adam', metrics=['accuracy'])\n",
        "\n",
        "# Early stopping\n",
        "early_stop = EarlyStopping(monitor='val_loss', patience=3)"
      ],
      "metadata": {
        "id": "JyzEIw24wvBT"
      },
      "execution_count": null,
      "outputs": []
    },
    {
      "cell_type": "code",
      "source": [
        "np.shape(train_X['100'])\n",
        "# np.shape(train_y['100'])"
      ],
      "metadata": {
        "colab": {
          "base_uri": "https://localhost:8080/"
        },
        "id": "ZHLSqLhidNXG",
        "outputId": "0dc0b3a6-f270-4591-b279-4a85c7977531"
      },
      "execution_count": null,
      "outputs": [
        {
          "output_type": "execute_result",
          "data": {
            "text/plain": [
              "(12313, 100)"
            ]
          },
          "metadata": {},
          "execution_count": 76
        }
      ]
    },
    {
      "cell_type": "code",
      "source": [
        "history = {}\n",
        "for i in subset[::-1]:\n",
        "  # Train the model\n",
        "  history[i] = models[i].fit(train_X[i], train_y[i], validation_data=(val_X, val_y), epochs=10, batch_size=32, callbacks=[early_stop])"
      ],
      "metadata": {
        "colab": {
          "base_uri": "https://localhost:8080/"
        },
        "id": "hw7Is6zuwzYR",
        "outputId": "abc240c4-92fe-4b1f-9a04-b87d7f3fd27c"
      },
      "execution_count": null,
      "outputs": [
        {
          "output_type": "stream",
          "name": "stdout",
          "text": [
            "Epoch 1/10\n",
            "385/385 [==============================] - 161s 397ms/step - loss: 0.6304 - accuracy: 0.6749 - val_loss: 0.5789 - val_accuracy: 0.7273\n",
            "Epoch 2/10\n",
            "385/385 [==============================] - 150s 389ms/step - loss: 0.5232 - accuracy: 0.7583 - val_loss: 0.5266 - val_accuracy: 0.7487\n",
            "Epoch 3/10\n",
            "385/385 [==============================] - 151s 393ms/step - loss: 0.5071 - accuracy: 0.7645 - val_loss: 0.5537 - val_accuracy: 0.7536\n",
            "Epoch 4/10\n",
            "385/385 [==============================] - 158s 409ms/step - loss: 0.5071 - accuracy: 0.7696 - val_loss: 0.6314 - val_accuracy: 0.6773\n",
            "Epoch 5/10\n",
            "385/385 [==============================] - 150s 389ms/step - loss: 0.5512 - accuracy: 0.7255 - val_loss: 0.5852 - val_accuracy: 0.7339\n",
            "Epoch 1/10\n",
            "289/289 [==============================] - 120s 394ms/step - loss: 0.6379 - accuracy: 0.6659 - val_loss: 0.6310 - val_accuracy: 0.6699\n",
            "Epoch 2/10\n",
            "289/289 [==============================] - 111s 385ms/step - loss: 0.5425 - accuracy: 0.7561 - val_loss: 0.5750 - val_accuracy: 0.7399\n",
            "Epoch 3/10\n",
            "289/289 [==============================] - 110s 382ms/step - loss: 0.4804 - accuracy: 0.8053 - val_loss: 0.5761 - val_accuracy: 0.7382\n",
            "Epoch 4/10\n",
            "289/289 [==============================] - 108s 372ms/step - loss: 0.4055 - accuracy: 0.8543 - val_loss: 0.5898 - val_accuracy: 0.7522\n",
            "Epoch 5/10\n",
            "289/289 [==============================] - 107s 371ms/step - loss: 0.3493 - accuracy: 0.8863 - val_loss: 0.6176 - val_accuracy: 0.7489\n",
            "Epoch 1/10\n",
            "193/193 [==============================] - 79s 380ms/step - loss: 0.6387 - accuracy: 0.6650 - val_loss: 0.6365 - val_accuracy: 0.6683\n",
            "Epoch 2/10\n",
            "193/193 [==============================] - 74s 385ms/step - loss: 0.5703 - accuracy: 0.7246 - val_loss: 0.5857 - val_accuracy: 0.7056\n",
            "Epoch 3/10\n",
            "193/193 [==============================] - 73s 378ms/step - loss: 0.4286 - accuracy: 0.8397 - val_loss: 0.6133 - val_accuracy: 0.7295\n",
            "Epoch 4/10\n",
            "193/193 [==============================] - 73s 377ms/step - loss: 0.3659 - accuracy: 0.8759 - val_loss: 0.5935 - val_accuracy: 0.7409\n",
            "Epoch 5/10\n",
            "193/193 [==============================] - 73s 379ms/step - loss: 0.2921 - accuracy: 0.9115 - val_loss: 0.6774 - val_accuracy: 0.7246\n",
            "Epoch 1/10\n",
            "97/97 [==============================] - 45s 403ms/step - loss: 0.6392 - accuracy: 0.6690 - val_loss: 0.6352 - val_accuracy: 0.6677\n",
            "Epoch 2/10\n",
            "97/97 [==============================] - 38s 393ms/step - loss: 0.6258 - accuracy: 0.6752 - val_loss: 0.6372 - val_accuracy: 0.6691\n",
            "Epoch 3/10\n",
            "97/97 [==============================] - 38s 389ms/step - loss: 0.5756 - accuracy: 0.7208 - val_loss: 0.6235 - val_accuracy: 0.6870\n",
            "Epoch 4/10\n",
            "97/97 [==============================] - 37s 377ms/step - loss: 0.4413 - accuracy: 0.8398 - val_loss: 0.6938 - val_accuracy: 0.7128\n",
            "Epoch 5/10\n",
            "97/97 [==============================] - 39s 399ms/step - loss: 0.3750 - accuracy: 0.8520 - val_loss: 0.7759 - val_accuracy: 0.6864\n",
            "Epoch 6/10\n",
            "97/97 [==============================] - 39s 400ms/step - loss: 0.2762 - accuracy: 0.9183 - val_loss: 0.7509 - val_accuracy: 0.7268\n"
          ]
        }
      ]
    },
    {
      "cell_type": "code",
      "source": [
        "import json\n",
        "\n",
        "history_dict = {}\n",
        "for i in subset:\n",
        "\n",
        "  history_dict[i] = {}\n",
        "\n",
        "  # Get the training accuracy\n",
        "  history_dict[i]['accuracy'] = history[i].history['accuracy']\n",
        "\n",
        "  # Get the validation accuracy\n",
        "  history_dict[i]['val_accuracy'] = history[i].history['val_accuracy']\n",
        "\n",
        "  # Get the training loss\n",
        "  history_dict[i]['loss'] = history[i].history['loss']\n",
        "\n",
        "  # Get the validation loss\n",
        "  history_dict[i]['val_loss'] = history[i].history['val_loss']\n",
        "\n",
        "\n",
        "with open('/content/drive/MyDrive/textAnalytics/history_dict_lstm.json', 'w') as f:\n",
        "    f.write(json.dumps(history_dict))"
      ],
      "metadata": {
        "id": "UVxwV0tw0JVK"
      },
      "execution_count": null,
      "outputs": []
    },
    {
      "cell_type": "code",
      "source": [
        "# Evaluate the model\n",
        "# test_data = pd.read_csv('testset-levela.tsv', delimiter='\\t', header=0)\n",
        "# test_data = test_data[['tweet']]\n",
        "# test_data = test_data.values\n",
        "# test_data = tokenizer.texts_to_sequences(test_data)\n",
        "# test_data = pad_sequences(test_data, padding='post', maxlen=maxlen)\n",
        "# predictions = model.predict_classes(test_data)\n"
      ],
      "metadata": {
        "id": "wa3Qp7mSXDLi"
      },
      "execution_count": null,
      "outputs": []
    },
    {
      "cell_type": "code",
      "source": [
        "for i in subset:\n",
        "  models[i].save('/content/drive/MyDrive/textAnalytics/myLSTMModel_'+i+'.h5')"
      ],
      "metadata": {
        "id": "q3CXNyBecLjF"
      },
      "execution_count": null,
      "outputs": []
    },
    {
      "cell_type": "code",
      "source": [
        "from keras.models import load_model\n",
        "\n",
        "# load the saved model\n",
        "loaded_model = load_model('/content/drive/MyDrive/textAnalytics/myLSTMModel_'+i+'.h5')"
      ],
      "metadata": {
        "id": "rOwdixqYfF-u"
      },
      "execution_count": null,
      "outputs": []
    },
    {
      "cell_type": "code",
      "source": [
        "loss_saved = {}\n",
        "accuracy_saved = {}\n",
        "\n",
        "for i in subset:\n",
        "  loss_saved[i], accuracy_saved[i] = models[i].evaluate(test_X, test_y)\n",
        "\n",
        "  print(f\"Test Loss: {loss_saved[i]:.4f}\")\n",
        "  print(f\"Test Accuracy: {accuracy_saved[i]:.4f}\")\n",
        "\n",
        "with open('/content/drive/MyDrive/textAnalytics/test_loss_lstm.json', 'w') as f:\n",
        "    f.write(json.dumps(loss_saved))\n",
        "\n",
        "with open('/content/drive/MyDrive/textAnalytics/test_accuracy_lstm.json', 'w') as f:\n",
        "    f.write(json.dumps(accuracy_saved))"
      ],
      "metadata": {
        "id": "AqKZgYHYfIh6",
        "colab": {
          "base_uri": "https://localhost:8080/"
        },
        "outputId": "e4b5eac8-5601-4d39-93d7-210aa2710599"
      },
      "execution_count": null,
      "outputs": [
        {
          "output_type": "stream",
          "name": "stdout",
          "text": [
            "27/27 [==============================] - 2s 82ms/step - loss: 0.6771 - accuracy: 0.7560\n",
            "Test Loss: 0.6771\n",
            "Test Accuracy: 0.7560\n",
            "27/27 [==============================] - 1s 52ms/step - loss: 0.6008 - accuracy: 0.7457\n",
            "Test Loss: 0.6008\n",
            "Test Accuracy: 0.7457\n",
            "27/27 [==============================] - 1s 54ms/step - loss: 0.6287 - accuracy: 0.7443\n",
            "Test Loss: 0.6287\n",
            "Test Accuracy: 0.7443\n",
            "27/27 [==============================] - 1s 46ms/step - loss: 0.5904 - accuracy: 0.7243\n",
            "Test Loss: 0.5904\n",
            "Test Accuracy: 0.7243\n"
          ]
        }
      ]
    },
    {
      "cell_type": "code",
      "source": [
        "history_dict['25']['val_accuracy']"
      ],
      "metadata": {
        "colab": {
          "base_uri": "https://localhost:8080/"
        },
        "id": "wU9aZrK-a0Tz",
        "outputId": "d628906f-7405-4a39-9f7e-119257cc8629"
      },
      "execution_count": null,
      "outputs": [
        {
          "output_type": "execute_result",
          "data": {
            "text/plain": [
              "[0.6677454113960266,\n",
              " 0.669061541557312,\n",
              " 0.6870443224906921,\n",
              " 0.7127724289894104,\n",
              " 0.6863646507263184,\n",
              " 0.7267637252807617]"
            ]
          },
          "metadata": {},
          "execution_count": 28
        }
      ]
    },
    {
      "cell_type": "code",
      "source": [
        "import matplotlib.pyplot as plt\n",
        "\n",
        "# Get the training accuracy history of the first model\n",
        "model_train_acc =  [history_dict['25']['accuracy'][-1],history_dict['50']['accuracy'][-1],history_dict['75']['accuracy'][-1],history_dict['100']['accuracy'][-1],]\n",
        "\n",
        "# Get the validation accuracy history of the first model\n",
        "model_val_acc = [history_dict['25']['val_accuracy'][-1],history_dict['50']['val_accuracy'][-1],history_dict['75']['val_accuracy'][-1],history_dict['100']['val_accuracy'][-1],]\n",
        "\n",
        "# Get the training accuracy history of the second model\n",
        "model_test_acc = [accuracy_saved['25'],accuracy_saved['50'],accuracy_saved['75'],accuracy_saved['100']]\n",
        "\n",
        "\n",
        "# Create the plot\n",
        "plt.plot(model_train_acc, label='Bidirectional LSTM Training Accuracy')\n",
        "plt.plot(model_val_acc, label='Bidirectional LSTM Validation Accuracy')\n",
        "plt.plot(model_test_acc, label='Bidirectional LSTM Test Accuracy')\n",
        "plt.legend()\n",
        "plt.xticks([0, 1, 2, 3], ['25%', '50%', '75%', '100%'])\n",
        "plt.xlabel('Percentage of Training Data')\n",
        "plt.ylabel('Accuracy')\n",
        "plt.title('Comparison of Training Validation & Testing Accuracy on Different % of Training Set')\n",
        "plt.show()\n",
        "plt.savefig('/content/drive/MyDrive/textAnalytics/lstm_comparing_val_accuracy.png')\n"
      ],
      "metadata": {
        "id": "gzGodo6PgzYw",
        "colab": {
          "base_uri": "https://localhost:8080/",
          "height": 489
        },
        "outputId": "4b471574-1292-4fd6-9336-3842b8b47d0c"
      },
      "execution_count": null,
      "outputs": [
        {
          "output_type": "display_data",
          "data": {
            "text/plain": [
              "<Figure size 640x480 with 1 Axes>"
            ],
            "image/png": "[encoded data removed]"
          },
          "metadata": {}
        },
        {
          "output_type": "display_data",
          "data": {
            "text/plain": [
              "<Figure size 640x480 with 0 Axes>"
            ]
          },
          "metadata": {}
        }
      ]
    },
    {
      "cell_type": "code",
      "source": [],
      "metadata": {
        "id": "o8FZZbBM3mEk"
      },
      "execution_count": null,
      "outputs": []
    }
  ]
}